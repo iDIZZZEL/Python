{
 "cells": [
  {
   "cell_type": "markdown",
   "source": [
    "# Задача 1: сравнение предложений\r\n",
    "Дан набор предложений, скопированных с Википедии. Каждое из них имеет \"кошачью тему\" в одном из трех смыслов:\r\n",
    "\r\n",
    "кошки (животные)\r\n",
    "UNIX-утилита cat для вывода содержимого файлов\r\n",
    "версии операционной системы OS X, названные в честь семейства кошачьих\r\n",
    "Ваша задача — найти два предложения, которые ближе всего по смыслу к расположенному в самой первой строке. В качестве меры близости по смыслу мы будем использовать косинусное расстояние.\r\n",
    "\r\n",
    "Выполните следующие шаги:\r\n",
    "\r\n",
    "1) Скачайте файл с предложениями (sentences.txt).\r\n",
    "2) Каждая строка в файле соответствует одному предложению. Считайте их, приведите каждую к нижнему регистру с помощью строковой функции lower().\r\n",
    "3) Произведите токенизацию, то есть разбиение текстов на слова. Для этого можно воспользоваться регулярным выражением, которое считает разделителем любой символ, не являющийся буквой: re.split('[^a-z]', t). Не забудьте удалить пустые слова после разделения.\r\n",
    "4) Составьте список всех слов, встречающихся в предложениях. Сопоставьте каждому слову индекс от нуля до (d - 1), где d — число различных слов в предложениях. Для этого удобно воспользоваться структурой dict.\r\n",
    "5) Создайте матрицу размера n * d, где n — число предложений. Заполните ее: элемент с индексом (i, j) в этой матрице должен быть равен количеству вхождений j-го слова в i-е предложение. У вас должна получиться матрица размера 22 * 254.\r\n",
    "6) Найдите косинусное расстояние от предложения в самой первой строке (In comparison to dogs, cats have not undergone...) до всех остальных с помощью функции scipy.spatial.distance.cosine. Какие номера у двух предложений, ближайших к нему по этому расстоянию (строки нумеруются с нуля)? Эти два числа и будут ответами на задание. Само предложение (In comparison to dogs, cats have not undergone... ) имеет индекс 0.\r\n",
    "7) Запишите полученные числа в файл, разделив пробелом. Обратите внимание, что файл должен состоять из одной строки, в конце которой не должно быть переноса. Пример файла с решением вы можете найти в конце задания (submission-1.txt).\r\n",
    "8) Совпадают ли ближайшие два предложения по тематике с первым? Совпадают ли тематики у следующих по близости предложений?\r\n",
    "\r\n",
    "Разумеется, использованный вами метод крайне простой. Например, он не учитывает формы слов (так, cat и cats он считает разными словами, хотя по сути они означают одно и то же), не удаляет из текстов артикли и прочие ненужные слова. Позже мы будем подробно изучать анализ текстов, где выясним, как достичь высокого качества в задаче поиска похожих предложений."
   ],
   "metadata": {}
  },
  {
   "cell_type": "code",
   "execution_count": 150,
   "source": [
    "import pandas as pd\r\n",
    "import numpy as np\r\n",
    "import scipy as sc\r\n",
    "from scipy.spatial import distance\r\n",
    "import re "
   ],
   "outputs": [],
   "metadata": {}
  },
  {
   "cell_type": "markdown",
   "source": [
    "# Решение:\r\n",
    "1) Скачайте файл с предложениями (sentences.txt).\r\n",
    "2) Каждая строка в файле соответствует одному предложению. Считайте их, приведите каждую к нижнему регистру с помощью строковой функции lower()."
   ],
   "metadata": {}
  },
  {
   "cell_type": "code",
   "execution_count": 151,
   "source": [
    "file_words = open('sentences.txt','r')\r\n",
    "content = file_words.readlines()\r\n",
    "content = [x.strip().lower() for x in content]\r\n",
    "print(content)"
   ],
   "outputs": [
    {
     "output_type": "stream",
     "name": "stdout",
     "text": [
      "['in comparison to dogs, cats have not undergone major changes during the domestication process.', 'as cat simply catenates streams of bytes, it can be also used to concatenate binary files, where it will just concatenate sequence of bytes.', 'a common interactive use of cat for a single file is to output the content of a file to standard output.', 'cats can hear sounds too faint or too high in frequency for human ears, such as those made by mice and other small animals.', 'in one, people deliberately tamed cats in a process of artificial selection, as they were useful predators of vermin.', 'the domesticated cat and its closest wild ancestor are both diploid organisms that possess 38 chromosomes and roughly 20,000 genes.', 'domestic cats are similar in size to the other members of the genus felis, typically weighing between 4 and 5 kg (8.8 and 11.0 lb).', 'however, if the output is piped or redirected, cat is unnecessary.', 'cat with one named file is safer where human error is a concern - one wrong use of the default redirection symbol \">\" instead of \"<\" (often adjacent on keyboards) may permanently delete the file you were just needing to read.', 'in terms of legibility, a sequence of commands starting with cat and connected by pipes has a clear left-to-right flow of information.', 'cat command is one of the basic commands that you learned when you started in the unix / linux world.', 'using cat command, the lines received from stdin can be redirected to a new file using redirection symbols.', 'when you type simply cat command without any arguments, it just receives the stdin content and displays it in the stdout.', 'leopard was released on october 26, 2007 as the successor of tiger (version 10.4), and is available in two editions.', 'according to apple, leopard contains over 300 changes and enhancements over its predecessor, mac os x tiger.', 'as of mid 2010, some apple computers have firmware factory installed which will no longer allow installation of mac os x leopard.', 'since apple moved to using intel processors in their computers, the osx86 community has developed and now also allows mac os x tiger and later releases to be installed on non-apple x86-based computers.', \"os x mountain lion was released on july 25, 2012 for purchase and download through apple's mac app store, as part of a switch to releasing os x versions online and every year.\", 'apple has released a small patch for the three most recent versions of safari running on os x yosemite, mavericks, and mountain lion.', 'the mountain lion release marks the second time apple has offered an incremental upgrade, rather than releasing a new cat entirely.', \"mac os x mountain lion installs in place, so you won't need to create a separate disk or run the installation off an external drive.\", \"the fifth major update to mac os x, leopard, contains such a mountain of features - more than 300 by apple's count.\"]\n"
     ]
    }
   ],
   "metadata": {}
  },
  {
   "cell_type": "markdown",
   "source": [
    "# Решение:\r\n",
    "3) Произведите токенизацию, то есть разбиение текстов на слова. Для этого можно воспользоваться регулярным выражением, которое считает разделителем любой символ, не являющийся буквой: re.split('[^a-z]', t). Не забудьте удалить пустые слова после разделения."
   ],
   "metadata": {}
  },
  {
   "cell_type": "code",
   "execution_count": 152,
   "source": [
    "words = []\r\n",
    "set_words = set()\r\n",
    "for line in content:\r\n",
    "    line = re.split('[^a-z]', line)\r\n",
    "    articles = []\r\n",
    "    for article in line:\r\n",
    "        if article != '':\r\n",
    "            articles.append(article)\r\n",
    "            set_words.add(article)   \r\n",
    "    words.append(articles)\r\n",
    "    #print(articles)\r\n",
    "#print(len(set_words))\r\n",
    "print(words[3])"
   ],
   "outputs": [
    {
     "output_type": "stream",
     "name": "stdout",
     "text": [
      "['cats', 'can', 'hear', 'sounds', 'too', 'faint', 'or', 'too', 'high', 'in', 'frequency', 'for', 'human', 'ears', 'such', 'as', 'those', 'made', 'by', 'mice', 'and', 'other', 'small', 'animals']\n"
     ]
    }
   ],
   "metadata": {}
  },
  {
   "cell_type": "markdown",
   "source": [
    "# Решение:\r\n",
    "4) Составьте список всех слов, встречающихся в предложениях. Сопоставьте каждому слову индекс от нуля до (d - 1), где d — число различных слов в предложениях. Для этого удобно воспользоваться структурой dict."
   ],
   "metadata": {}
  },
  {
   "cell_type": "code",
   "execution_count": 153,
   "source": [
    "list_words = list(set_words)\r\n",
    "dict_words = {x: list_words[x] for x in range(len(set_words))}\r\n",
    "print(dict_words)\r\n",
    "#print(dict_words.values('a'))"
   ],
   "outputs": [
    {
     "output_type": "stream",
     "name": "stdout",
     "text": [
      "{0: 'they', 1: 'command', 2: 'wild', 3: 'domestic', 4: 'online', 5: 'marks', 6: 'download', 7: 'redirected', 8: 'editions', 9: 'as', 10: 'such', 11: 'artificial', 12: 'starting', 13: 'leopard', 14: 'changes', 15: 'no', 16: 'useful', 17: 'right', 18: 'be', 19: 'unix', 20: 'was', 21: 'high', 22: 'default', 23: 'ears', 24: 'on', 25: 'commands', 26: 'allows', 27: 'catenates', 28: 'part', 29: 'over', 30: 'streams', 31: 'other', 32: 'also', 33: 'are', 34: 'predecessor', 35: 'keyboards', 36: 'small', 37: 'undergone', 38: 'purchase', 39: 'incremental', 40: 'stdout', 41: 'its', 42: 'safari', 43: 'two', 44: 'according', 45: 'named', 46: 'need', 47: 'chromosomes', 48: 'installation', 49: 'when', 50: 'contains', 51: 'between', 52: 'without', 53: 'version', 54: 'since', 55: 'roughly', 56: 'os', 57: 'or', 58: 'frequency', 59: 'however', 60: 'more', 61: 'genes', 62: 's', 63: 'october', 64: 'july', 65: 'allow', 66: 'output', 67: 'year', 68: 'longer', 69: 'yosemite', 70: 'organisms', 71: 'later', 72: 'patch', 73: 'second', 74: 'concern', 75: 'based', 76: 'received', 77: 'possess', 78: 'is', 79: 'files', 80: 'processors', 81: 'linux', 82: 'simply', 83: 'size', 84: 'domestication', 85: 'of', 86: 'releasing', 87: 'learned', 88: 'drive', 89: 'arguments', 90: 'symbol', 91: 'won', 92: 'where', 93: 'pipes', 94: 'were', 95: 'app', 96: 'tamed', 97: 'sequence', 98: 'common', 99: 'cats', 100: 'new', 101: 'in', 102: 'successor', 103: 'apple', 104: 'vermin', 105: 'terms', 106: 'mac', 107: 'disk', 108: 'upgrade', 109: 'to', 110: 'mid', 111: 'flow', 112: 'recent', 113: 'factory', 114: 'too', 115: 'moved', 116: 'members', 117: 'hear', 118: 'some', 119: 'information', 120: 'run', 121: 'external', 122: 'one', 123: 'during', 124: 'started', 125: 'receives', 126: 'running', 127: 'permanently', 128: 'time', 129: 'connected', 130: 'a', 131: 'installed', 132: 'than', 133: 't', 134: 'content', 135: 'ancestor', 136: 'major', 137: 'can', 138: 'adjacent', 139: 'every', 140: 'read', 141: 'fifth', 142: 'often', 143: 'needing', 144: 'lines', 145: 'x', 146: 'human', 147: 'made', 148: 'unnecessary', 149: 'may', 150: 'an', 151: 'weighing', 152: 'wrong', 153: 'store', 154: 'entirely', 155: 'cat', 156: 'bytes', 157: 'typically', 158: 'sounds', 159: 'mountain', 160: 'process', 161: 'faint', 162: 'safer', 163: 'released', 164: 'concatenate', 165: 'comparison', 166: 'dogs', 167: 'just', 168: 'genus', 169: 'off', 170: 'mice', 171: 'available', 172: 'with', 173: 'error', 174: 'piped', 175: 'firmware', 176: 'if', 177: 'interactive', 178: 'have', 179: 'predators', 180: 'you', 181: 'standard', 182: 'people', 183: 'features', 184: 'those', 185: 'closest', 186: 'and', 187: 'will', 188: 'tiger', 189: 'left', 190: 'delete', 191: 'diploid', 192: 'which', 193: 'most', 194: 'basic', 195: 'it', 196: 'kg', 197: 'versions', 198: 'lion', 199: 'that', 200: 'the', 201: 'computers', 202: 'binary', 203: 'place', 204: 'by', 205: 'installs', 206: 'separate', 207: 'file', 208: 'releases', 209: 'instead', 210: 'has', 211: 'type', 212: 'three', 213: 'through', 214: 'use', 215: 'enhancements', 216: 'their', 217: 'offered', 218: 'switch', 219: 'release', 220: 'lb', 221: 'felis', 222: 'any', 223: 'redirection', 224: 'displays', 225: 'community', 226: 'legibility', 227: 'single', 228: 'update', 229: 'both', 230: 'selection', 231: 'osx', 232: 'symbols', 233: 'stdin', 234: 'rather', 235: 'clear', 236: 'using', 237: 'count', 238: 'now', 239: 'not', 240: 'animals', 241: 'used', 242: 'deliberately', 243: 'intel', 244: 'developed', 245: 'mavericks', 246: 'create', 247: 'domesticated', 248: 'non', 249: 'similar', 250: 'so', 251: 'for', 252: 'from', 253: 'world'}\n"
     ]
    }
   ],
   "metadata": {}
  },
  {
   "cell_type": "markdown",
   "source": [
    "# Решение:\r\n",
    "5) Создайте матрицу размера n * d, где n — число предложений. Заполните ее: элемент с индексом (i, j) в этой матрице должен быть равен количеству вхождений j-го слова в i-е предложение. У вас должна получиться матрица размера 22 * 254."
   ],
   "metadata": {}
  },
  {
   "cell_type": "code",
   "execution_count": 154,
   "source": [
    "matr = np.ones((22, 254))\r\n",
    "print(matr.shape)\r\n",
    "for i in range(0, 22):\r\n",
    "    for j in range (0, 254):\r\n",
    "        matr[i, j] = words[i].count(dict_words[j])\r\n",
    "    #matr[i, :]\r\n",
    "    #print(matr[i, :])\r\n",
    "print(matr)"
   ],
   "outputs": [
    {
     "output_type": "stream",
     "name": "stdout",
     "text": [
      "(22, 254)\n",
      "[[0. 0. 0. ... 0. 0. 0.]\n",
      " [0. 0. 0. ... 0. 0. 0.]\n",
      " [0. 0. 0. ... 1. 0. 0.]\n",
      " ...\n",
      " [0. 0. 0. ... 0. 0. 0.]\n",
      " [0. 0. 0. ... 0. 0. 0.]\n",
      " [0. 0. 0. ... 0. 0. 0.]]\n"
     ]
    }
   ],
   "metadata": {}
  },
  {
   "cell_type": "markdown",
   "source": [
    "# Решение:\r\n",
    "6) Найдите косинусное расстояние от предложения в самой первой строке (In comparison to dogs, cats have not undergone...) до всех остальных с помощью функции scipy.spatial.distance.cosine. Какие номера у двух предложений, ближайших к нему по этому расстоянию (строки нумеруются с нуля)? Эти два числа и будут ответами на задание. Само предложение (In comparison to dogs, cats have not undergone... ) имеет индекс 0."
   ],
   "metadata": {}
  },
  {
   "cell_type": "code",
   "execution_count": 155,
   "source": [
    "weight_of_importance = []\r\n",
    "for i in range(1, 22):\r\n",
    "    weight_of_importance.append(distance.cosine(matr[0, :],matr[i, :])) \r\n",
    "weight_of_importance_min = sorted(weight_of_importance)\r\n",
    "#print(len(weight_of_importance))\r\n",
    "#print(min(weight_of_importance))\r\n",
    "print(weight_of_importance.index(weight_of_importance_min[0]))\r\n",
    "print(weight_of_importance.index(weight_of_importance_min[1]))\r\n",
    "sentences_1 = weight_of_importance.index(weight_of_importance_min[0]) + 1\r\n",
    "sentences_2 = weight_of_importance.index(weight_of_importance_min[1]) + 1\r\n",
    "print(\"Первое ближайшее предложение к первому:\\n\", sentences_1)\r\n",
    "print(\"Второе ближайшее предложение к первому:\\n\", sentences_2)\r\n",
    "#print(weight_of_importance)\r\n",
    "#print(weight_of_importance_min)"
   ],
   "outputs": [
    {
     "output_type": "stream",
     "name": "stdout",
     "text": [
      "5\n",
      "3\n",
      "Первое ближайшее предложение к первому:\n",
      " 6\n",
      "Второе ближайшее предложение к первому:\n",
      " 4\n"
     ]
    }
   ],
   "metadata": {}
  },
  {
   "cell_type": "markdown",
   "source": [
    "# Решение:\r\n",
    "7) Запишите полученные числа в файл, разделив пробелом. Обратите внимание, что файл должен состоять из одной строки, в конце которой не должно быть переноса. Пример файла с решением вы можете найти в конце задания (submission-1.txt)."
   ],
   "metadata": {}
  },
  {
   "cell_type": "code",
   "execution_count": 157,
   "source": [
    "file_submission = open(\"submission-1.txt\", \"w+\")\r\n",
    "stroka = str(sentences_1) + ' ' + str(sentences_2)\r\n",
    "print(stroka)\r\n",
    "file_submission.write(stroka)\r\n",
    "file_submission.close()"
   ],
   "outputs": [
    {
     "output_type": "stream",
     "name": "stdout",
     "text": [
      "6 4\n"
     ]
    }
   ],
   "metadata": {}
  },
  {
   "cell_type": "code",
   "execution_count": 161,
   "source": [
    "# Проверка файла\r\n",
    "file_submission_2 = open(\"submission-1.txt\", \"r\")\r\n",
    "file_submission_2.readlines()"
   ],
   "outputs": [
    {
     "output_type": "execute_result",
     "data": {
      "text/plain": [
       "['6 4']"
      ]
     },
     "metadata": {},
     "execution_count": 161
    }
   ],
   "metadata": {}
  }
 ],
 "metadata": {
  "orig_nbformat": 4,
  "language_info": {
   "name": "python",
   "version": "3.9.6",
   "mimetype": "text/x-python",
   "codemirror_mode": {
    "name": "ipython",
    "version": 3
   },
   "pygments_lexer": "ipython3",
   "nbconvert_exporter": "python",
   "file_extension": ".py"
  },
  "kernelspec": {
   "name": "python3",
   "display_name": "Python 3.9.6 64-bit"
  },
  "interpreter": {
   "hash": "693051ef44f00f42ebfc2dafa13228827441a703622fcbcdf4cce777ad1fbe12"
  }
 },
 "nbformat": 4,
 "nbformat_minor": 2
}