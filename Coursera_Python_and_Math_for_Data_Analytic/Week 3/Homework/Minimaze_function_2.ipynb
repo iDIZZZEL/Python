{
 "cells": [
  {
   "cell_type": "markdown",
   "source": [
    "# Задача 3. Минимизация негладкой функции\r\n",
    "\r\n",
    "1) Теперь рассмотрим функцию h(x) = int(f(x)) на том же отрезке [1, 30], т.е. теперь каждое значение f(x) приводится к типу int и функция принимает только целые значения.\r\n",
    "2) Такая функция будет негладкой и даже разрывной, а ее график будет иметь ступенчатый вид. Убедитесь в этом, построив график h(x) с помощью matplotlib.\r\n",
    "3) Попробуйте найти минимум функции h(x) с помощью BFGS, взяв в качестве начального приближения x=30. Получившееся значение функции – ваш первый ответ в этой задаче.\r\n",
    "4) Теперь попробуйте найти минимум h(x) на отрезке [1, 30] с помощью дифференциальной эволюции. Значение функции h(x) в точке минимума – это ваш второй ответ в этом задании. Запишите его через пробел после предыдущего.\r\n",
    "5) Обратите внимание на то, что полученные ответы различаются. Это ожидаемый результат, ведь BFGS использует градиент (в одномерном случае – производную) и явно не пригоден для минимизации рассмотренной нами разрывной функции. Попробуйте понять, почему минимум, найденный BFGS, именно такой (возможно в этом вам поможет выбор разных начальных приближений).\r\n",
    "6) Выполнив это задание, вы увидели на практике, чем поиск минимума функции отличается от глобальной оптимизации, и когда может быть полезно применить вместо градиентного метода оптимизации метод, не использующий градиент. Кроме того, вы попрактиковались в использовании библиотеки SciPy для решения оптимизационных задач, и теперь знаете, насколько это просто и удобно."
   ],
   "metadata": {}
  },
  {
   "cell_type": "code",
   "execution_count": 6,
   "source": [
    "import numpy as np\r\n",
    "import scipy as sc\r\n",
    "from scipy.spatial import distance\r\n",
    "import math\r\n",
    "import matplotlib.pyplot as plt\r\n",
    "from scipy.optimize import minimize\r\n",
    "from scipy.optimize import differential_evolution"
   ],
   "outputs": [],
   "metadata": {}
  },
  {
   "cell_type": "markdown",
   "source": [
    "# Решение:\r\n",
    "1) Теперь рассмотрим функцию h(x) = int(f(x)) на том же отрезке [1, 30], т.е. теперь каждое значение f(x) приводится к типу int и функция принимает только целые значения.\r\n",
    "2) Такая функция будет негладкой и даже разрывной, а ее график будет иметь ступенчатый вид. Убедитесь в этом, построив график h(x) с помощью matplotlib."
   ],
   "metadata": {}
  },
  {
   "cell_type": "code",
   "execution_count": 8,
   "source": [
    "def function_exp(x):\r\n",
    "    f_x = np.sin(x/5.0)*np.exp(x/10.0) + 5.0*np.exp(-x/2.0) \r\n",
    "    return f_x\r\n",
    "\r\n",
    "def function_int(y):\r\n",
    "    h_y = int(function_exp(y))\r\n",
    "    return h_y\r\n",
    "\r\n",
    "# Plot \r\n",
    "x_ideal = list(np.arange(1.0, 30.0, 0.05))\r\n",
    "y_ideal = []\r\n",
    "#y1 = []\r\n",
    "for p in range(len(x_ideal)):\r\n",
    "    y_ideal.append(function_int(x_ideal[p]))\r\n",
    "    #y1.append(function_w1(x_ideal[p]))\r\n",
    "plt.figure(figsize=(7, 7))\r\n",
    "plt.plot(x_ideal, y_ideal,'ro')\r\n",
    "#plt.plot(x_ideal, y1,'g-')\r\n",
    "plt.xlabel('X')\r\n",
    "plt.ylabel('H(X)')\r\n",
    "plt.grid()\r\n",
    "plt.show()"
   ],
   "outputs": [
    {
     "output_type": "display_data",
     "data": {
      "image/png": "[encoded data removed]",
      "text/plain": [
       "<Figure size 504x504 with 1 Axes>"
      ]
     },
     "metadata": {
      "needs_background": "light"
     }
    }
   ],
   "metadata": {}
  },
  {
   "cell_type": "markdown",
   "source": [
    "# Решение:\r\n",
    "3) Попробуйте найти минимум функции h(x) с помощью BFGS, взяв в качестве начального приближения x=30. Получившееся значение функции – ваш первый ответ в этой задаче.\r\n",
    "4) Теперь попробуйте найти минимум h(x) на отрезке [1, 30] с помощью дифференциальной эволюции. Значение функции h(x) в точке минимума – это ваш второй ответ в этом задании. Запишите его через пробел после предыдущего."
   ],
   "metadata": {}
  },
  {
   "cell_type": "code",
   "execution_count": 22,
   "source": [
    "rez_std = minimize(function_int, 30, method = 'BFGS')\r\n",
    "print (rez_std)\r\n",
    "stroka_1 = rez_std.fun\r\n",
    "print(stroka_1)"
   ],
   "outputs": [
    {
     "output_type": "stream",
     "name": "stdout",
     "text": [
      "      fun: -5\n",
      " hess_inv: array([[1]])\n",
      "      jac: array([0.])\n",
      "  message: 'Optimization terminated successfully.'\n",
      "     nfev: 2\n",
      "      nit: 0\n",
      "     njev: 1\n",
      "   status: 0\n",
      "  success: True\n",
      "        x: array([30.])\n",
      "-5\n"
     ]
    }
   ],
   "metadata": {}
  },
  {
   "cell_type": "code",
   "execution_count": 26,
   "source": [
    "x0 = [(1.0, 30.0)]\r\n",
    "rez_dm = differential_evolution(function_int, x0)\r\n",
    "print(rez_dm)\r\n",
    "stroka_2 = rez_dm.fun\r\n",
    "print(stroka_2)"
   ],
   "outputs": [
    {
     "output_type": "stream",
     "name": "stdout",
     "text": [
      "     fun: -11.0\n",
      " message: 'Optimization terminated successfully.'\n",
      "    nfev: 62\n",
      "     nit: 3\n",
      " success: True\n",
      "       x: array([25.92996496])\n",
      "-11.0\n"
     ]
    }
   ],
   "metadata": {}
  },
  {
   "cell_type": "code",
   "execution_count": 28,
   "source": [
    "# Create file\r\n",
    "file_submission = open(\"submission-23.txt\", \"w+\") \r\n",
    "stroka = str(np.round(stroka_1, 2)) +' '+ str(np.round(stroka_2, 2))\r\n",
    "print(stroka)\r\n",
    "file_submission.write(stroka)\r\n",
    "file_submission.close()"
   ],
   "outputs": [
    {
     "output_type": "stream",
     "name": "stdout",
     "text": [
      "-5 -11.0\n"
     ]
    }
   ],
   "metadata": {}
  }
 ],
 "metadata": {
  "orig_nbformat": 4,
  "language_info": {
   "name": "python",
   "version": "3.9.6",
   "mimetype": "text/x-python",
   "codemirror_mode": {
    "name": "ipython",
    "version": 3
   },
   "pygments_lexer": "ipython3",
   "nbconvert_exporter": "python",
   "file_extension": ".py"
  },
  "kernelspec": {
   "name": "python3",
   "display_name": "Python 3.9.6 64-bit"
  },
  "interpreter": {
   "hash": "54f91c5a48a059f11f5dbec9fb56ad730147efd81aceed9c4ab96d6eb40448b0"
  }
 },
 "nbformat": 4,
 "nbformat_minor": 2
}