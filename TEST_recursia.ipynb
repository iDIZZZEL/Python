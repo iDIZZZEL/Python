{
 "cells": [
  {
   "cell_type": "code",
   "execution_count": 6,
   "source": [
    "def fact(x):\r\n",
    "    if x==1:\r\n",
    "        return 1\r\n",
    "    else:\r\n",
    "        return x*fact(x-1)"
   ],
   "outputs": [],
   "metadata": {}
  },
  {
   "cell_type": "code",
   "execution_count": 8,
   "source": [
    "fact(10)"
   ],
   "outputs": [
    {
     "output_type": "execute_result",
     "data": {
      "text/plain": [
       "3628800"
      ]
     },
     "metadata": {},
     "execution_count": 8
    }
   ],
   "metadata": {}
  },
  {
   "cell_type": "code",
   "execution_count": 16,
   "source": [
    "def quicksort(array):\r\n",
    "    if len(array) < 2:\r\n",
    "        return array\r\n",
    "    else:\r\n",
    "        pivot = array[0]\r\n",
    "        less = [i for i in array[1:] if i <= pivot]\r\n",
    "        greater = [i for i in array[1:] if i > pivot]\r\n",
    "        return quicksort(less) + [pivot] + quicksort(greater) "
   ],
   "outputs": [],
   "metadata": {}
  },
  {
   "cell_type": "code",
   "execution_count": 12,
   "source": [
    "print(quicksort([10, 5, 2, 3]))"
   ],
   "outputs": [
    {
     "output_type": "stream",
     "name": "stdout",
     "text": [
      "[2, 3, 5, 10]\n"
     ]
    }
   ],
   "metadata": {}
  }
 ],
 "metadata": {
  "orig_nbformat": 4,
  "language_info": {
   "name": "python",
   "version": "3.9.6",
   "mimetype": "text/x-python",
   "codemirror_mode": {
    "name": "ipython",
    "version": 3
   },
   "pygments_lexer": "ipython3",
   "nbconvert_exporter": "python",
   "file_extension": ".py"
  },
  "kernelspec": {
   "name": "python3",
   "display_name": "Python 3.9.6 64-bit"
  },
  "interpreter": {
   "hash": "693051ef44f00f42ebfc2dafa13228827441a703622fcbcdf4cce777ad1fbe12"
  }
 },
 "nbformat": 4,
 "nbformat_minor": 2
}